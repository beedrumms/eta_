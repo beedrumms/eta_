{
  "nbformat": 4,
  "nbformat_minor": 0,
  "metadata": {
    "colab": {
      "name": "wine_DB.ipynb",
      "provenance": [],
      "collapsed_sections": [],
      "authorship_tag": "ABX9TyOmfNwagzfV7nEksIyKHiDb",
      "include_colab_link": true
    },
    "kernelspec": {
      "name": "python3",
      "display_name": "Python 3"
    },
    "language_info": {
      "name": "python"
    }
  },
  "cells": [
    {
      "cell_type": "markdown",
      "metadata": {
        "id": "view-in-github",
        "colab_type": "text"
      },
      "source": [
        "<a href=\"https://colab.research.google.com/github/beedrumms/eta_/blob/main/wine_DB.ipynb\" target=\"_parent\"><img src=\"https://colab.research.google.com/assets/colab-badge.svg\" alt=\"Open In Colab\"/></a>"
      ]
    },
    {
      "cell_type": "code",
      "execution_count": 1,
      "metadata": {
        "colab": {
          "base_uri": "https://localhost:8080/"
        },
        "id": "3YfvYzYgBkCY",
        "outputId": "d66db6b7-3d9e-4415-f0c9-ca60396eee61"
      },
      "outputs": [
        {
          "output_type": "stream",
          "name": "stdout",
          "text": [
            "Drive already mounted at /content/drive; to attempt to forcibly remount, call drive.mount(\"/content/drive\", force_remount=True).\n"
          ]
        }
      ],
      "source": [
        "# Mounting google colab on drive \n",
        "from google.colab import drive, files\n",
        "import os\n",
        "drive.mount(\"/content/drive\")"
      ]
    },
    {
      "cell_type": "code",
      "source": [
        "# sql extension \n",
        "%load_ext sql\n",
        "#connect to in memory sqlite db \n",
        "%sql sqlite://"
      ],
      "metadata": {
        "colab": {
          "base_uri": "https://localhost:8080/",
          "height": 36
        },
        "id": "T4H-o1a_8W34",
        "outputId": "980d580d-1f22-412c-d793-a9d6abb23197"
      },
      "execution_count": 2,
      "outputs": [
        {
          "output_type": "execute_result",
          "data": {
            "application/vnd.google.colaboratory.intrinsic+json": {
              "type": "string"
            },
            "text/plain": [
              "'Connected: @None'"
            ]
          },
          "metadata": {},
          "execution_count": 2
        }
      ]
    },
    {
      "cell_type": "code",
      "source": [
        "#Creating tables -- wines -- vineyard \n",
        "%%sql \n",
        "CREATE TABLE if not exists Wine (\n",
        "  Uid int PRIMARY KEY,\n",
        "  Name varchar(255),\n",
        "  Year date,\n",
        "  Vineyard varchar(255),\n",
        "  GrapeNumber varchar(255),\n",
        "  Review text\n",
        ");\n",
        "\n",
        "SELECT * From Wine;"
      ],
      "metadata": {
        "colab": {
          "base_uri": "https://localhost:8080/",
          "height": 94
        },
        "id": "djdoXL5_8qZu",
        "outputId": "4606c72f-6cc4-4779-f67a-f4c5e902bd35"
      },
      "execution_count": 3,
      "outputs": [
        {
          "output_type": "stream",
          "name": "stdout",
          "text": [
            " * sqlite://\n",
            "Done.\n",
            "Done.\n"
          ]
        },
        {
          "output_type": "execute_result",
          "data": {
            "text/html": [
              "<table>\n",
              "    <thead>\n",
              "        <tr>\n",
              "            <th>Uid</th>\n",
              "            <th>Name</th>\n",
              "            <th>Year</th>\n",
              "            <th>Vineyard</th>\n",
              "            <th>GrapeNumber</th>\n",
              "            <th>Review</th>\n",
              "        </tr>\n",
              "    </thead>\n",
              "    <tbody>\n",
              "    </tbody>\n",
              "</table>"
            ],
            "text/plain": [
              "[]"
            ]
          },
          "metadata": {},
          "execution_count": 3
        }
      ]
    },
    {
      "cell_type": "code",
      "source": [
        "%%sql \n",
        "CREATE TABLE if not exists Blend (\n",
        "  WineUid int, \n",
        "  WineName varchar(255),\n",
        "  PrimaryGrape varchar(255), \n",
        "  SecondaryGrape varchar(255),\n",
        "  TriaryGrape varchar(255),\n",
        "  CONSTRAINT fk_wineUid FOREIGN KEY(WineUid)\n",
        "  REFERENCES Wine(Uid)\n",
        ");\n",
        "\n",
        "SELECT * From Blend "
      ],
      "metadata": {
        "colab": {
          "base_uri": "https://localhost:8080/",
          "height": 94
        },
        "id": "0-M5XQuMGdIt",
        "outputId": "6aa3aed8-4054-45cd-89e6-37164129a55a"
      },
      "execution_count": 4,
      "outputs": [
        {
          "output_type": "stream",
          "name": "stdout",
          "text": [
            " * sqlite://\n",
            "Done.\n",
            "Done.\n"
          ]
        },
        {
          "output_type": "execute_result",
          "data": {
            "text/html": [
              "<table>\n",
              "    <thead>\n",
              "        <tr>\n",
              "            <th>WineUid</th>\n",
              "            <th>WineName</th>\n",
              "            <th>PrimaryGrape</th>\n",
              "            <th>SecondaryGrape</th>\n",
              "            <th>TriaryGrape</th>\n",
              "        </tr>\n",
              "    </thead>\n",
              "    <tbody>\n",
              "    </tbody>\n",
              "</table>"
            ],
            "text/plain": [
              "[]"
            ]
          },
          "metadata": {},
          "execution_count": 4
        }
      ]
    },
    {
      "cell_type": "code",
      "source": [
        "%%sql\n",
        "INSERT INTO Wine VALUES(0001, 'house red', 2015, 'winetown', 3, 'spritzy, light & affordable sparklings - ideal for splashing around in a swimming pool or a long afternoon spent in a Toronto Island daze');\n",
        "INSERT INTO Wine VALUES(0002, 'house red', 2016, 'wineville', 2, 'old-school approach to sparkling wine produces a featherweight wine with light fruit, lower ABV and tons of easy drinking freshness, perfect for splashing around a backyard kiddy pool OR a good ‘ole game of Mario Kart with your pals');\n",
        "INSERT INTO Wine VALUES(0003, 'sunday in august', 2017, 'wineville', 1, 'BIG limestone energy like stealing a rock from a vineyard and sniffing it alone in your hotel room later that night');\n",
        "INSERT INTO Wine VALUES(0004, 'la pause', 2015, 'winecity', 2, 'Full & rich, structured & spicy, it’s like you cooked down a bunch of berries with a splash of blackcurrant cassis (clever!) and black pepper (edgy!) with a slight liquorice note');\n",
        "INSERT INTO Wine VALUES(0005, 'chateau vieux', 2019, 'wineworld', 1, 'juicy but not fruit-forward, slightly floral, firmly earthy with a perfect alignment of presence & power – tart cranberry, fleshy blueberries & sorrel sorbet with voluminous tannins and fresh acid');\n",
        "INSERT INTO Wine VALUES(0006, 'el compadre', 2017, 'wineville', 3, 'Raspberry ruby, blood orange gelato, cherry chapstick, first day of spring');\n",
        "INSERT INTO Wine VALUES(0007, 'frappato', 2019, 'wineworld', 2, 'Dr Pepper, watermelon seed, cherry pastille, Finnish rye bread with a thick layer of lingonberry preserves, wet leaf & a sprinkle of white pepper like perfect summertime freckles');\n",
        "INSERT INTO Wine VALUES(0008, 'aunis', 2017, 'wineville', 3, 'like the smell of the month of October exploded into a wine. Crackling dried leaves & outdoor firepit, clear & crisp & romantic');\n",
        "INSERT INTO Wine VALUES(0009, 'st. laurent', 2018,'wineworld', 2, 'Silky, milky chocolatey texture, crunchy black tea tannins, overflowing baskets of perfect black cherries');\n",
        "INSERT INTO Wine VALUES(0010, 'cashtown', 2015, 'winecity', 3, 'Purple freezie goes to Coachella, Italian plums, blackcurrant Harrods candies, blackberry preserves & the gushiest of gushy fruit');\n",
        "INSERT INTO Wine VALUES(0011, 'koerner', 2018, 'wineworld', 2, 'moked cranberry, cherry pit, autumn plum, fresh tobacco, star anise, a touch of earthy funk & stemmy tannins');\n",
        "INSERT INTO Wine VALUES(0012, 'Envinate', 2019, 'wineville', 3, 'Medium-bodied, concrete-fermented for max freshness, dusty plum, juice dribbling down your chin, jam jar of star anise, sleek granite, cherry with wet dirt on it, cold breeze, type A personality');\n",
        "INSERT INTO Wine VALUES(0013, 'forlon hope', 2020, 'winecounty', 2, 'Bright, crunchy, anise-y magic with a zippy core. Pair with all the pizza, pasta & barbeque moments - it is savoury and rustic');\n",
        "INSERT INTO Wine VALUES(0014, 'zinny', 2019, 'winescene', 3, 'Inky-dark, silky-textured & sensually aromatic with notes of smoked cherries, blackcurrant jam, dark chocolate & savoury earth with a whiff of HB2 pencil');\n",
        "INSERT INTO Wine VALUES(0015, 'june red', 2017, 'wineville', 3, 'juiciness from the Frankovka aka Blaüfrankisch, blackcurrant cassis and a touch of graphite from the Cab and then a nice, ripe berry quality from the Alibernet');"
      ],
      "metadata": {
        "colab": {
          "base_uri": "https://localhost:8080/"
        },
        "id": "-xoZAvy3PCB7",
        "outputId": "02252d69-02f6-4762-bea0-955ed98c046c"
      },
      "execution_count": 5,
      "outputs": [
        {
          "output_type": "stream",
          "name": "stdout",
          "text": [
            " * sqlite://\n",
            "1 rows affected.\n",
            "1 rows affected.\n",
            "1 rows affected.\n",
            "1 rows affected.\n",
            "1 rows affected.\n",
            "1 rows affected.\n",
            "1 rows affected.\n",
            "1 rows affected.\n",
            "1 rows affected.\n",
            "1 rows affected.\n",
            "1 rows affected.\n",
            "1 rows affected.\n",
            "1 rows affected.\n",
            "1 rows affected.\n",
            "1 rows affected.\n"
          ]
        },
        {
          "output_type": "execute_result",
          "data": {
            "text/plain": [
              "[]"
            ]
          },
          "metadata": {},
          "execution_count": 5
        }
      ]
    },
    {
      "cell_type": "code",
      "source": [
        "%%sql \n",
        "INSERT INTO Blend VALUES(0001, 'house red', 'bordeaux', 'cabernet sauvignon', 'pinot noir');\n",
        "INSERT INTO Blend VALUES(0002, 'house red', 'pinot noir', 'malbec', NULL);\n",
        "INSERT INTO Blend VALUES(0003, 'sunday in august', 'gamay', NULL, NULL);\n",
        "INSERT INTO Blend VALUES(0004, 'la pause', 'pinot noir', 'bordeaux', NULL);\n",
        "INSERT INTO Blend VALUES(0005, 'chateau vieux', 'gamay', NULL, NULL);\n",
        "INSERT INTO Blend VALUES(0006, 'el compadre', 'malbec', 'pinot noir', 'cabernet sauvignon');\n",
        "INSERT INTO Blend VALUES(0007, 'frappato', 'pinot noir', 'gamay', NULL);\n",
        "INSERT INTO Blend VALUES(0008, 'aunis', 'gamay', 'bordeaux', 'malbec');\n",
        "INSERT INTO Blend VALUES(0009, 'st. laurent', 'bordeaux', 'malbec', NULL);\n",
        "INSERT INTO Blend VALUES(0010, 'cashtown', 'pinot noir', 'cabernet sauvignon', 'malbec');\n",
        "INSERT INTO Blend VALUES(0011, 'koerner', 'malbec', 'bordeaux', NULL);\n",
        "INSERT INTO Blend VALUES(0012, 'Envinate', 'cabernet sauvignon', 'gamay', 'pinot noir');\n",
        "INSERT INTO Blend VALUES(0013, 'forlon hope', 'gamay', 'pinot noir', NULL);\n",
        "INSERT INTO Blend VALUES(0014, 'zinny', 'cabernet sauvignon', 'gamay', 'pinot noir');\n",
        "INSERT INTO Blend VALUES(0015, 'june red', 'pinot noir', 'bordeaux', 'gamay');"
      ],
      "metadata": {
        "colab": {
          "base_uri": "https://localhost:8080/"
        },
        "id": "NRL-AjHMDC33",
        "outputId": "f62996e7-fc83-4e22-dfee-9dc55edb22ab"
      },
      "execution_count": 6,
      "outputs": [
        {
          "output_type": "stream",
          "name": "stdout",
          "text": [
            " * sqlite://\n",
            "1 rows affected.\n",
            "1 rows affected.\n",
            "1 rows affected.\n",
            "1 rows affected.\n",
            "1 rows affected.\n",
            "1 rows affected.\n",
            "1 rows affected.\n",
            "1 rows affected.\n",
            "1 rows affected.\n",
            "1 rows affected.\n",
            "1 rows affected.\n",
            "1 rows affected.\n",
            "1 rows affected.\n",
            "1 rows affected.\n",
            "1 rows affected.\n"
          ]
        },
        {
          "output_type": "execute_result",
          "data": {
            "text/plain": [
              "[]"
            ]
          },
          "metadata": {},
          "execution_count": 6
        }
      ]
    },
    {
      "cell_type": "markdown",
      "source": [
        "##What are the 10 most recent wines that used a pinot noir grape?"
      ],
      "metadata": {
        "id": "wFyGxYNDWZ6d"
      }
    },
    {
      "cell_type": "markdown",
      "source": [
        "###\n",
        "house red, house red, la pause, el compadre, \n",
        "frappato, cashtown, Envinate, forlon hope, zinny, june red\n",
        "\n"
      ],
      "metadata": {
        "id": "XBLMWDJ5e0lv"
      }
    },
    {
      "cell_type": "code",
      "source": [
        "%%sql\n",
        "SELECT Blend.WineName, Wine.Year, Wine.Review\n",
        "FROM Blend\n",
        "INNER JOIN Wine\n",
        "  ON Wine.Uid = Blend.WineUid \n",
        "  WHERE (Blend.PrimaryGrape = \"pinot noir\") OR (Blend.SecondaryGrape = \"pinot noir\") OR (Blend.TriaryGrape = \"pinot noir\")\n",
        "ORDER BY Wine.Year;"
      ],
      "metadata": {
        "colab": {
          "base_uri": "https://localhost:8080/",
          "height": 395
        },
        "id": "yU2dTq9DXh1w",
        "outputId": "2c7aa912-c172-4f0b-c6da-57a1b4482e8b"
      },
      "execution_count": 34,
      "outputs": [
        {
          "output_type": "stream",
          "name": "stdout",
          "text": [
            " * sqlite://\n",
            "Done.\n"
          ]
        },
        {
          "output_type": "execute_result",
          "data": {
            "text/html": [
              "<table>\n",
              "    <thead>\n",
              "        <tr>\n",
              "            <th>WineName</th>\n",
              "            <th>Year</th>\n",
              "            <th>Review</th>\n",
              "        </tr>\n",
              "    </thead>\n",
              "    <tbody>\n",
              "        <tr>\n",
              "            <td>house red</td>\n",
              "            <td>2015</td>\n",
              "            <td>spritzy, light &amp; affordable sparklings - ideal for splashing around in a swimming pool or a long afternoon spent in a Toronto Island daze</td>\n",
              "        </tr>\n",
              "        <tr>\n",
              "            <td>la pause</td>\n",
              "            <td>2015</td>\n",
              "            <td>Full &amp; rich, structured &amp; spicy, it’s like you cooked down a bunch of berries with a splash of blackcurrant cassis (clever!) and black pepper (edgy!) with a slight liquorice note</td>\n",
              "        </tr>\n",
              "        <tr>\n",
              "            <td>cashtown</td>\n",
              "            <td>2015</td>\n",
              "            <td>Purple freezie goes to Coachella, Italian plums, blackcurrant Harrods candies, blackberry preserves &amp; the gushiest of gushy fruit</td>\n",
              "        </tr>\n",
              "        <tr>\n",
              "            <td>house red</td>\n",
              "            <td>2016</td>\n",
              "            <td>old-school approach to sparkling wine produces a featherweight wine with light fruit, lower ABV and tons of easy drinking freshness, perfect for splashing around a backyard kiddy pool OR a good ‘ole game of Mario Kart with your pals</td>\n",
              "        </tr>\n",
              "        <tr>\n",
              "            <td>frappato</td>\n",
              "            <td>2019</td>\n",
              "            <td>Dr Pepper, watermelon seed, cherry pastille, Finnish rye bread with a thick layer of lingonberry preserves, wet leaf &amp; a sprinkle of white pepper like perfect summertime freckles</td>\n",
              "        </tr>\n",
              "        <tr>\n",
              "            <td>Envinate</td>\n",
              "            <td>2019</td>\n",
              "            <td>Medium-bodied, concrete-fermented for max freshness, dusty plum, juice dribbling down your chin, jam jar of star anise, sleek granite, cherry with wet dirt on it, cold breeze, type A personality</td>\n",
              "        </tr>\n",
              "        <tr>\n",
              "            <td>zinny</td>\n",
              "            <td>2019</td>\n",
              "            <td>Inky-dark, silky-textured &amp; sensually aromatic with notes of smoked cherries, blackcurrant jam, dark chocolate &amp; savoury earth with a whiff of HB2 pencil</td>\n",
              "        </tr>\n",
              "        <tr>\n",
              "            <td>forlon hope</td>\n",
              "            <td>2020</td>\n",
              "            <td>Bright, crunchy, anise-y magic with a zippy core. Pair with all the pizza, pasta &amp; barbeque moments - it is savoury and rustic</td>\n",
              "        </tr>\n",
              "    </tbody>\n",
              "</table>"
            ],
            "text/plain": [
              "[('house red', 2015, 'spritzy, light & affordable sparklings - ideal for splashing around in a swimming pool or a long afternoon spent in a Toronto Island daze'),\n",
              " ('la pause', 2015, 'Full & rich, structured & spicy, it’s like you cooked down a bunch of berries with a splash of blackcurrant cassis (clever!) and black pepper (edgy!) with a slight liquorice note'),\n",
              " ('cashtown', 2015, 'Purple freezie goes to Coachella, Italian plums, blackcurrant Harrods candies, blackberry preserves & the gushiest of gushy fruit'),\n",
              " ('house red', 2016, 'old-school approach to sparkling wine produces a featherweight wine with light fruit, lower ABV and tons of easy drinking freshness, perfect for splashing around a backyard kiddy pool OR a good ‘ole game of Mario Kart with your pals'),\n",
              " ('frappato', 2019, 'Dr Pepper, watermelon seed, cherry pastille, Finnish rye bread with a thick layer of lingonberry preserves, wet leaf & a sprinkle of white pepper like perfect summertime freckles'),\n",
              " ('Envinate', 2019, 'Medium-bodied, concrete-fermented for max freshness, dusty plum, juice dribbling down your chin, jam jar of star anise, sleek granite, cherry with wet dirt on it, cold breeze, type A personality'),\n",
              " ('zinny', 2019, 'Inky-dark, silky-textured & sensually aromatic with notes of smoked cherries, blackcurrant jam, dark chocolate & savoury earth with a whiff of HB2 pencil'),\n",
              " ('forlon hope', 2020, 'Bright, crunchy, anise-y magic with a zippy core. Pair with all the pizza, pasta & barbeque moments - it is savoury and rustic')]"
            ]
          },
          "metadata": {},
          "execution_count": 34
        }
      ]
    }
  ]
}